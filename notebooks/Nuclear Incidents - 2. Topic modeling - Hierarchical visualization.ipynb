{
 "cells": [
  {
   "cell_type": "markdown",
   "metadata": {},
   "source": [
    "<div style=\"font-variant: small-caps; \n",
    "      font-weight: normal; \n",
    "      font-size: 35px; \n",
    "      text-align: center; \n",
    "      padding: 15px; \n",
    "      margin: 10px;\">\n",
    "  Nuclear Incidents\n",
    "  </div> \n",
    "\n",
    "  \n",
    "<div style=\"font-variant: small-caps; \n",
    "      font-weight: normal; \n",
    "      font-size: 25px; \n",
    "      text-align: center; \n",
    "      padding: 15px; \n",
    "      margin: 10px;\">\n",
    "      Topic modeling - Hierarchical Visualization\n",
    "  </div> \n",
    "\n",
    "\n",
    "  <div style=\" float:left; \n",
    "      font-size: 12px; \n",
    "      line-height: 12px; \n",
    "  padding: 10px 15px 8px;\">\n",
    "  Jean-baptiste AUJOGUE\n",
    "  </div> \n",
    "  \n",
    "  <div style=\" float:right; \n",
    "      font-size: 12px; \n",
    "      line-height: 12px; \n",
    "  padding: 10px 15px 8px;\">\n",
    "  Jan 2023\n",
    "  </div> "
   ]
  },
  {
   "cell_type": "markdown",
   "metadata": {},
   "source": [
    "<a id=\"TOC\"></a>"
   ]
  },
  {
   "cell_type": "code",
   "execution_count": null,
   "metadata": {},
   "outputs": [],
   "source": [
    "%load_ext autoreload\n",
    "%autoreload 2"
   ]
  },
  {
   "cell_type": "code",
   "execution_count": null,
   "metadata": {
    "scrolled": true
   },
   "outputs": [],
   "source": [
    "import sys\n",
    "import warnings\n",
    "import os\n",
    "\n",
    "# data \n",
    "import numpy as np\n",
    "import pandas as pd\n",
    "\n",
    "# viz\n",
    "from vega import Vega\n",
    "\n",
    "warnings.filterwarnings(\"ignore\")\n",
    "print('python version :', sys.version)"
   ]
  },
  {
   "cell_type": "markdown",
   "metadata": {},
   "source": [
    "**Path to data repertory**"
   ]
  },
  {
   "cell_type": "code",
   "execution_count": null,
   "metadata": {},
   "outputs": [],
   "source": [
    "path_to_repo = os.path.dirname(os.getcwd())\n",
    "path_to_data = os.path.join(path_to_repo, 'data', 'processed')"
   ]
  },
  {
   "cell_type": "code",
   "execution_count": null,
   "metadata": {},
   "outputs": [],
   "source": [
    "path_to_repo"
   ]
  },
  {
   "cell_type": "markdown",
   "metadata": {},
   "source": [
    "<a id=\"classification\"></a>"
   ]
  },
  {
   "cell_type": "markdown",
   "metadata": {},
   "source": [
    "# 1. Topics at different levels\n",
    "\n",
    "[Table of Content](#TOC)\n",
    "\n",
    "We cast the topic hierarchy into a json structure:"
   ]
  },
  {
   "cell_type": "code",
   "execution_count": null,
   "metadata": {},
   "outputs": [],
   "source": [
    "df_text_topics = pd.read_excel(os.path.join(path_to_data, 'source_titles_topics.xlsx'))\n",
    "df_para_topics = pd.read_excel(os.path.join(path_to_data, 'source_paragraphs_topics.xlsx'))\n",
    "df_span_topics = pd.read_excel(os.path.join(path_to_data, 'source_spans_topics.xlsx'))"
   ]
  },
  {
   "cell_type": "code",
   "execution_count": null,
   "metadata": {},
   "outputs": [],
   "source": [
    "df_text_topics.head(3)"
   ]
  },
  {
   "cell_type": "code",
   "execution_count": null,
   "metadata": {},
   "outputs": [],
   "source": [
    "df_para_topics.head(3)"
   ]
  },
  {
   "cell_type": "code",
   "execution_count": null,
   "metadata": {},
   "outputs": [],
   "source": [
    "df_span_topics.head(3)"
   ]
  },
  {
   "cell_type": "markdown",
   "metadata": {},
   "source": [
    "# 2. Hierarchical visualization\n",
    "\n",
    "[Table of Content](#TOC)\n",
    "\n",
    "Put topics into a parent-child format\n",
    "\n",
    "for each text-level topic, compute para-level topic that belongs to it, with ammount, and adress them an id\n",
    "\n",
    "TODO: the parent child connectivity should be decided using:\n",
    "    - a tfidf matrix build upon the list of parents described as BOW of children\n",
    "    - usinf the top N children in the tfidf weighting of any given parent"
   ]
  },
  {
   "cell_type": "code",
   "execution_count": null,
   "metadata": {},
   "outputs": [],
   "source": [
    "def invert_dict(k2v):\n",
    "    vs = sorted(list(set(k2v.values())), key = lambda s: (len(s), s))\n",
    "    return {v: [k for k in k2v if k2v[k] == v] for v in vs}"
   ]
  },
  {
   "cell_type": "code",
   "execution_count": null,
   "metadata": {},
   "outputs": [],
   "source": [
    "text_id2topic = dict(zip(df_text_topics.Doc_id, df_text_topics.topic_NMF))\n",
    "para_id2topic = dict(zip(zip(df_para_topics.Doc_id, df_para_topics.Para_id), df_para_topics.topic_LSA))\n",
    "span_id2topic = dict(zip(zip(df_span_topics.Doc_id, df_span_topics.Para_id, df_span_topics.Sent_id, df_span_topics.Span_id), df_span_topics.topic_LSA))"
   ]
  },
  {
   "cell_type": "code",
   "execution_count": null,
   "metadata": {},
   "outputs": [],
   "source": [
    "text_topic2ids = invert_dict(text_id2topic)\n",
    "para_topic2ids = invert_dict(para_id2topic)\n",
    "span_topic2ids = invert_dict(span_id2topic)"
   ]
  },
  {
   "cell_type": "code",
   "execution_count": null,
   "metadata": {},
   "outputs": [],
   "source": [
    "text_topic2ids"
   ]
  },
  {
   "cell_type": "code",
   "execution_count": null,
   "metadata": {},
   "outputs": [],
   "source": [
    "topics_json = [{'id' : 1, 'name': 'Root', 'size': 1}]\n",
    "for t_i, (t_topic, t_ids) in enumerate(text_topic2ids.items()):\n",
    "    topics_json += [{'id' : (t_i+2), 'name': t_topic, 'size': len(t_ids), 'parent': 1}]\n",
    "    \n",
    "    for p_i, (p_topic, p_ids) in enumerate(para_topic2ids.items()):\n",
    "        p_size = len([p for p in p_ids if (p[0] in t_ids)])\n",
    "        if p_size > 10:\n",
    "            topics_json += [{'id' : int((t_i+2)*1e4 + p_i+2), 'name': p_topic, 'size': p_size, 'parent': (t_i+2)}]\n",
    "\n",
    "            for sp_i, (sp_topic, sp_ids) in enumerate(span_topic2ids.items()):\n",
    "                sp_size = len([sp for sp in sp_ids if (tuple(sp[:2]) in p_ids)])\n",
    "                if sp_size > 50:\n",
    "                    topics_json += [{'id': int((t_i+2)*1e7 + (p_i+2)*1e4 + sp_i+2), 'name': sp_topic, 'size': sp_size, 'parent': int((t_i+2)*1e4 + p_i+2)}]"
   ]
  },
  {
   "cell_type": "code",
   "execution_count": null,
   "metadata": {},
   "outputs": [],
   "source": [
    "len(topics_json)"
   ]
  },
  {
   "cell_type": "code",
   "execution_count": null,
   "metadata": {},
   "outputs": [],
   "source": [
    "topics_json[:5]"
   ]
  },
  {
   "cell_type": "code",
   "execution_count": null,
   "metadata": {},
   "outputs": [],
   "source": [
    "# import json\n",
    "\n",
    "# with open('flare.json') as f:\n",
    "#     data_json = json.load(f)"
   ]
  },
  {
   "cell_type": "code",
   "execution_count": null,
   "metadata": {},
   "outputs": [],
   "source": [
    "# example taken from https://vega.github.io/vega/examples/tree-layout/\n",
    "# with data given at https://vega.github.io/vega/data/flare.json\n",
    "\n",
    "spec = {\n",
    "  \"$schema\": \"https://vega.github.io/schema/vega/v5.json\",\n",
    "  \"description\": \"An example of Cartesian layouts for a node-link diagram of hierarchical data.\",\n",
    "  \"width\": 600,\n",
    "  \"height\": 50000, # 1600,\n",
    "  \"padding\": 5,\n",
    "\n",
    "  \"signals\": [\n",
    "    {\n",
    "      \"name\": \"labels\", \"value\": True,\n",
    "      \"bind\": {\"input\": \"checkbox\"}\n",
    "    },\n",
    "    {\n",
    "      \"name\": \"layout\", \"value\": \"tidy\",\n",
    "      \"bind\": {\"input\": \"radio\", \"options\": [\"tidy\", \"cluster\"]}\n",
    "    },\n",
    "    {\n",
    "      \"name\": \"links\", \"value\": \"diagonal\",\n",
    "      \"bind\": {\n",
    "        \"input\": \"select\",\n",
    "        \"options\": [\"line\", \"curve\", \"diagonal\", \"orthogonal\"]\n",
    "      }\n",
    "    },\n",
    "    {\n",
    "      \"name\": \"separation\", \"value\": False,\n",
    "      \"bind\": {\"input\": \"checkbox\"}\n",
    "    }\n",
    "  ],\n",
    "\n",
    "  \"data\": [\n",
    "    {\n",
    "      \"name\": \"tree\",\n",
    "      \"values\": topics_json, # data_json,\n",
    "      \"transform\": [\n",
    "        {\n",
    "          \"type\": \"stratify\",\n",
    "          \"key\": \"id\",\n",
    "          \"parentKey\": \"parent\"\n",
    "        },\n",
    "        {\n",
    "          \"type\": \"tree\",\n",
    "          \"method\": {\"signal\": \"layout\"},\n",
    "          \"size\": [{\"signal\": \"height\"}, {\"signal\": \"width - 100\"}],\n",
    "          \"separation\": {\"signal\": \"separation\"},\n",
    "          \"as\": [\"y\", \"x\", \"depth\", \"children\"]\n",
    "        }\n",
    "      ]\n",
    "    },\n",
    "    {\n",
    "      \"name\": \"links\",\n",
    "      \"source\": \"tree\",\n",
    "      \"transform\": [\n",
    "        { \"type\": \"treelinks\" },\n",
    "        {\n",
    "          \"type\": \"linkpath\",\n",
    "          \"orient\": \"horizontal\",\n",
    "          \"shape\": {\"signal\": \"links\"}\n",
    "        }\n",
    "      ]\n",
    "    }\n",
    "  ],\n",
    "\n",
    "  \"scales\": [\n",
    "    {\n",
    "      \"name\": \"color\",\n",
    "      \"type\": \"linear\",\n",
    "      \"range\": {\"scheme\": \"magma\"},\n",
    "      \"domain\": {\"data\": \"tree\", \"field\": \"depth\"},\n",
    "      \"zero\": True\n",
    "    }\n",
    "  ],\n",
    "\n",
    "  \"marks\": [\n",
    "    {\n",
    "      \"type\": \"path\",\n",
    "      \"from\": {\"data\": \"links\"},\n",
    "      \"encode\": {\n",
    "        \"update\": {\n",
    "          \"path\": {\"field\": \"path\"},\n",
    "          \"stroke\": {\"value\": \"#ccc\"}\n",
    "        }\n",
    "      }\n",
    "    },\n",
    "    {\n",
    "      \"type\": \"symbol\",\n",
    "      \"from\": {\"data\": \"tree\"},\n",
    "      \"encode\": {\n",
    "        \"enter\": {\n",
    "          \"size\": {\"value\": 100},\n",
    "          \"stroke\": {\"value\": \"#fff\"}\n",
    "        },\n",
    "        \"update\": {\n",
    "          \"x\": {\"field\": \"x\"},\n",
    "          \"y\": {\"field\": \"y\"},\n",
    "          \"fill\": {\"scale\": \"color\", \"field\": \"depth\"}\n",
    "        }\n",
    "      }\n",
    "    },\n",
    "    {\n",
    "      \"type\": \"text\",\n",
    "      \"from\": {\"data\": \"tree\"},\n",
    "      \"encode\": {\n",
    "        \"enter\": {\n",
    "          \"text\": {\"field\": \"name\"},\n",
    "          \"fontSize\": {\"value\": 9},\n",
    "          \"baseline\": {\"value\": \"middle\"}\n",
    "        },\n",
    "        \"update\": {\n",
    "          \"x\": {\"field\": \"x\"},\n",
    "          \"y\": {\"field\": \"y\"},\n",
    "          \"dx\": {\"signal\": \"datum.children ? -7 : 7\"},\n",
    "          \"align\": {\"signal\": \"datum.children ? 'right' : 'left'\"},\n",
    "          \"opacity\": {\"signal\": \"labels ? 1 : 0\"}\n",
    "        }\n",
    "      }\n",
    "    }\n",
    "  ]\n",
    "}\n"
   ]
  },
  {
   "cell_type": "code",
   "execution_count": 2,
   "metadata": {},
   "outputs": [
    {
     "ename": "ModuleNotFoundError",
     "evalue": "No module named 'vegascope'",
     "output_type": "error",
     "traceback": [
      "\u001b[1;31m---------------------------------------------------------------------------\u001b[0m",
      "\u001b[1;31mModuleNotFoundError\u001b[0m                       Traceback (most recent call last)",
      "Cell \u001b[1;32mIn[2], line 1\u001b[0m\n\u001b[1;32m----> 1\u001b[0m \u001b[38;5;28;01mimport\u001b[39;00m \u001b[38;5;21;01mvegascope\u001b[39;00m\n",
      "\u001b[1;31mModuleNotFoundError\u001b[0m: No module named 'vegascope'"
     ]
    }
   ],
   "source": [
    "import vegascope"
   ]
  },
  {
   "cell_type": "code",
   "execution_count": 3,
   "metadata": {},
   "outputs": [
    {
     "ename": "NameError",
     "evalue": "name 'vegascope' is not defined",
     "output_type": "error",
     "traceback": [
      "\u001b[1;31m---------------------------------------------------------------------------\u001b[0m",
      "\u001b[1;31mNameError\u001b[0m                                 Traceback (most recent call last)",
      "Cell \u001b[1;32mIn[3], line 1\u001b[0m\n\u001b[1;32m----> 1\u001b[0m canvas \u001b[38;5;241m=\u001b[39m \u001b[43mvegascope\u001b[49m\u001b[38;5;241m.\u001b[39mLocalCanvas()\n",
      "\u001b[1;31mNameError\u001b[0m: name 'vegascope' is not defined"
     ]
    }
   ],
   "source": [
    "canvas = vegascope.LocalCanvas()"
   ]
  },
  {
   "cell_type": "code",
   "execution_count": null,
   "metadata": {},
   "outputs": [],
   "source": [
    "canvas.how()"
   ]
  },
  {
   "cell_type": "code",
   "execution_count": null,
   "metadata": {},
   "outputs": [],
   "source": [
    "canvas(spec)"
   ]
  },
  {
   "cell_type": "code",
   "execution_count": null,
   "metadata": {},
   "outputs": [],
   "source": []
  },
  {
   "cell_type": "code",
   "execution_count": null,
   "metadata": {},
   "outputs": [],
   "source": []
  },
  {
   "cell_type": "markdown",
   "metadata": {},
   "source": [
    "<a id=\"bottom\"></a>"
   ]
  },
  {
   "cell_type": "markdown",
   "metadata": {},
   "source": [
    "[Table of content](#TOC)"
   ]
  }
 ],
 "metadata": {
  "kernelspec": {
   "display_name": "Python 3 (ipykernel)",
   "language": "python",
   "name": "python3"
  },
  "language_info": {
   "codemirror_mode": {
    "name": "ipython",
    "version": 3
   },
   "file_extension": ".py",
   "mimetype": "text/x-python",
   "name": "python",
   "nbconvert_exporter": "python",
   "pygments_lexer": "ipython3",
   "version": "3.11.5"
  }
 },
 "nbformat": 4,
 "nbformat_minor": 4
}
