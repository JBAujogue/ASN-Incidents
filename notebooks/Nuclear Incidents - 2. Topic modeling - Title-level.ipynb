{
 "cells": [
  {
   "cell_type": "markdown",
   "metadata": {},
   "source": [
    "<div style=\"font-variant: small-caps; \n",
    "      font-weight: normal; \n",
    "      font-size: 35px; \n",
    "      text-align: center; \n",
    "      padding: 15px; \n",
    "      margin: 10px;\">\n",
    "  Nuclear Incidents\n",
    "  </div> \n",
    "\n",
    "  \n",
    "<div style=\"font-variant: small-caps; \n",
    "      font-weight: normal; \n",
    "      font-size: 25px; \n",
    "      text-align: center; \n",
    "      padding: 15px; \n",
    "      margin: 10px;\">\n",
    "      Topic modeling - Title-level\n",
    "  </div> \n",
    "\n",
    "\n",
    "  <div style=\" float:left; \n",
    "      font-size: 12px; \n",
    "      line-height: 12px; \n",
    "  padding: 10px 15px 8px;\">\n",
    "  Jean-baptiste AUJOGUE\n",
    "  </div> \n",
    "  \n",
    "  <div style=\" float:right; \n",
    "      font-size: 12px; \n",
    "      line-height: 12px; \n",
    "  padding: 10px 15px 8px;\">\n",
    "  Jan 2023\n",
    "  </div> "
   ]
  },
  {
   "cell_type": "markdown",
   "metadata": {},
   "source": [
    "<a id=\"TOC\"></a>"
   ]
  },
  {
   "cell_type": "code",
   "execution_count": null,
   "metadata": {},
   "outputs": [],
   "source": [
    "%load_ext autoreload\n",
    "%autoreload 2"
   ]
  },
  {
   "cell_type": "code",
   "execution_count": null,
   "metadata": {
    "scrolled": true
   },
   "outputs": [],
   "source": [
    "import sys\n",
    "import warnings\n",
    "import os\n",
    "\n",
    "# data \n",
    "import numpy as np\n",
    "import pandas as pd\n",
    "\n",
    "# viz\n",
    "import matplotlib.pyplot as plt\n",
    "\n",
    "warnings.filterwarnings(\"ignore\")\n",
    "print('python version :', sys.version)"
   ]
  },
  {
   "cell_type": "markdown",
   "metadata": {},
   "source": [
    "**Path to data repertory**"
   ]
  },
  {
   "cell_type": "code",
   "execution_count": null,
   "metadata": {},
   "outputs": [],
   "source": [
    "path_to_repo = os.path.dirname(os.getcwd())\n",
    "path_to_data = os.path.join(path_to_repo, 'data', 'processed')\n",
    "path_to_save = os.path.join(path_to_repo, 'saves')"
   ]
  },
  {
   "cell_type": "code",
   "execution_count": null,
   "metadata": {},
   "outputs": [],
   "source": [
    "path_to_repo"
   ]
  },
  {
   "cell_type": "code",
   "execution_count": null,
   "metadata": {},
   "outputs": [],
   "source": [
    "sys.path.insert(0, os.path.join(path_to_repo, 'src'))"
   ]
  },
  {
   "cell_type": "code",
   "execution_count": null,
   "metadata": {},
   "outputs": [],
   "source": [
    "from tmtools.tfidf import compute_stripped_ngrams_fr, compute_sklearn_tfidf_matrix\n",
    "from tmtools.topic import compute_topic_modeling, plot_topic_words"
   ]
  },
  {
   "cell_type": "markdown",
   "metadata": {},
   "source": [
    "<a id=\"classification\"></a>"
   ]
  },
  {
   "cell_type": "markdown",
   "metadata": {},
   "source": [
    "# 1. Tfidf feature matrix\n",
    "\n",
    "[Table of Content](#TOC)"
   ]
  },
  {
   "cell_type": "code",
   "execution_count": null,
   "metadata": {},
   "outputs": [],
   "source": [
    "df_corpus = pd.read_excel(os.path.join(path_to_data, 'source_texts.xlsx'))"
   ]
  },
  {
   "cell_type": "code",
   "execution_count": null,
   "metadata": {},
   "outputs": [],
   "source": [
    "df_corpus.head(5)"
   ]
  },
  {
   "cell_type": "code",
   "execution_count": null,
   "metadata": {},
   "outputs": [],
   "source": [
    "corpus = df_corpus.title.tolist()\n",
    "len(corpus)"
   ]
  },
  {
   "cell_type": "markdown",
   "metadata": {},
   "source": [
    "#### Compute stripped ngrams"
   ]
  },
  {
   "cell_type": "code",
   "execution_count": null,
   "metadata": {},
   "outputs": [],
   "source": [
    "vocab = compute_stripped_ngrams_fr(\n",
    "    corpus, \n",
    "    sublinear_tf = True,\n",
    "    use_idf = True,\n",
    "    ngram_range = (1, 3),\n",
    "    min_df = 1,\n",
    "    strip_accents = None,\n",
    "    lowercase = True,\n",
    ")"
   ]
  },
  {
   "cell_type": "code",
   "execution_count": null,
   "metadata": {},
   "outputs": [],
   "source": [
    "len(vocab)"
   ]
  },
  {
   "cell_type": "code",
   "execution_count": null,
   "metadata": {},
   "outputs": [],
   "source": [
    "tfidf_matrix, tfidf_ngrams = compute_sklearn_tfidf_matrix(\n",
    "    corpus, \n",
    "    vocab,\n",
    "    sublinear_tf = True,\n",
    "    use_idf = True,\n",
    "    ngram_range = (1, 3),\n",
    "    min_df = 3,\n",
    "    strip_accents = None,\n",
    "    lowercase = True,\n",
    ")\n",
    "tfidf_matrix.shape"
   ]
  },
  {
   "cell_type": "markdown",
   "metadata": {},
   "source": [
    "# 2. Topic modeling\n",
    "\n",
    "[Table of Content](#TOC)"
   ]
  },
  {
   "cell_type": "code",
   "execution_count": null,
   "metadata": {},
   "outputs": [],
   "source": [
    "n_topics = 100"
   ]
  },
  {
   "cell_type": "markdown",
   "metadata": {},
   "source": [
    "#### Topic modeling using LSA"
   ]
  },
  {
   "cell_type": "code",
   "execution_count": null,
   "metadata": {
    "scrolled": true
   },
   "outputs": [],
   "source": [
    "df_text_topic_LSA, df_topic_feature_LSA, df_topic_importance_LSA, df_feature_importance_LSA = compute_topic_modeling(\n",
    "    tfidf_matrix, tfidf_ngrams, method = 'LSA', n_components = n_topics, topic_name = 'Title topic',\n",
    ")"
   ]
  },
  {
   "cell_type": "code",
   "execution_count": null,
   "metadata": {},
   "outputs": [],
   "source": [
    "topic_LSA = df_text_topic_LSA.iloc[:, :n_topics].idxmax(axis = 1)"
   ]
  },
  {
   "cell_type": "code",
   "execution_count": null,
   "metadata": {},
   "outputs": [],
   "source": [
    "df_corpus['topic_LSA'] = topic_LSA"
   ]
  },
  {
   "cell_type": "markdown",
   "metadata": {},
   "source": [
    "#### Interpretation of LSA topics"
   ]
  },
  {
   "cell_type": "code",
   "execution_count": null,
   "metadata": {
    "scrolled": true
   },
   "outputs": [],
   "source": [
    "# LSA\n",
    "plot_topic_words(df_topic_feature_LSA, n_topics = 100, n_top_words = 15)"
   ]
  },
  {
   "cell_type": "code",
   "execution_count": null,
   "metadata": {},
   "outputs": [],
   "source": [
    "df_topic_importance_LSA.plot(figsize = (15, 5))"
   ]
  },
  {
   "cell_type": "code",
   "execution_count": null,
   "metadata": {
    "scrolled": true
   },
   "outputs": [],
   "source": [
    "topic_LSA.value_counts().plot.barh(figsize = (10, 15)).invert_yaxis()\n",
    "plt.show()"
   ]
  },
  {
   "cell_type": "code",
   "execution_count": null,
   "metadata": {},
   "outputs": [],
   "source": [
    "topic_LSA_dict = {\n",
    "    1: \"Non-respect des spécifications techniques d'exploitation\",\n",
    "    2: \"Non-respect des règles générales d'exploitation\",\n",
    "    3: \"Détection tardive d'indisponibilité\",\n",
    "    4: \"Défaut d’isolement de l’enceinte de confinement\",\n",
    "    5: \"Sortie du domaine de fonctionnement\",\n",
    "    6: \"Incident de contamination\",\n",
    "    9: \"Défaut du groupe électrogène de secours\",\n",
    "    10: \"Défaut de maîtrise de la criticité\",\n",
    "    12: \"Défaut de tenue au séisme\",\n",
    "    14: \"Défaut du circuit d’injection de sécurité\",\n",
    "    16: \"Défaut du turbo-alternateur de secours\",\n",
    "    17: \"Non-respect d’une mesure compensatoire\",\n",
    "    18: \"Défaut du circuit de refroidissement\",\n",
    "    20: \"Défaut du circuit d’eau brute\",\n",
    "    21: \"Défaut du groupe électrogène de secours\",\n",
    "    22: \"Défaut du circuit de refroidissement\",\n",
    "    23: \"Défaut de grappes de commande\",\n",
    "    24: \"contamination d’outillages\",\n",
    "    28: \"Rejets de fluide frigorigène\",\n",
    "    31: \"Défaut de réalisation du contrôle périodique\",\n",
    "    34: \"Surplus de matière uranifère\",\n",
    "    38: \"Incident de contamination\",\n",
    "    39: \"Défaut d’entreposage de déchets radioactifs\",\n",
    "    43: \"Défaut de montée en puissance\",\n",
    "    52: \"Défaut de détecteurs incendie\",\n",
    "    58: \"Défaut du circuit de contrôle volumétrique et chimique\",\n",
    "}"
   ]
  },
  {
   "cell_type": "markdown",
   "metadata": {},
   "source": [
    "#### Topic modeling using NMF"
   ]
  },
  {
   "cell_type": "code",
   "execution_count": null,
   "metadata": {},
   "outputs": [],
   "source": [
    "df_text_topic_NMF, df_topic_feature_NMF, df_topic_importance_NMF, df_feature_importance_NMF = compute_topic_modeling(\n",
    "    tfidf_matrix, tfidf_ngrams, method = 'NMF', n_components = n_topics, topic_name = 'Title topic',\n",
    ")"
   ]
  },
  {
   "cell_type": "code",
   "execution_count": null,
   "metadata": {},
   "outputs": [],
   "source": [
    "topic_NMF = df_text_topic_NMF.iloc[:, :n_topics].idxmax(axis = 1)"
   ]
  },
  {
   "cell_type": "code",
   "execution_count": null,
   "metadata": {},
   "outputs": [],
   "source": [
    "df_corpus['topic_NMF'] = topic_NMF"
   ]
  },
  {
   "cell_type": "markdown",
   "metadata": {},
   "source": [
    "#### Interpretation of NMF topics"
   ]
  },
  {
   "cell_type": "code",
   "execution_count": null,
   "metadata": {},
   "outputs": [],
   "source": [
    "# LSA\n",
    "plot_topic_words(df_topic_feature_NMF, n_topics = 100, n_top_words = 15)"
   ]
  },
  {
   "cell_type": "code",
   "execution_count": null,
   "metadata": {
    "scrolled": true
   },
   "outputs": [],
   "source": [
    "topic_NMF.value_counts().plot.barh(figsize = (10, 15)).invert_yaxis()\n",
    "plt.show()"
   ]
  },
  {
   "cell_type": "code",
   "execution_count": null,
   "metadata": {},
   "outputs": [],
   "source": [
    "topic_NMF_dict = {\n",
    "    1: \"Non-respect des spécifications techniques d'exploitation\",\n",
    "    2: \"Non-respect des règles générales d'exploitation\",\n",
    "    3: \"Détection tardive d'indisponibilité\",\n",
    "    4: \"Défaut d’isolement de l’enceinte de confinement\",\n",
    "    5: \"Sortie du domaine de fonctionnement\",\n",
    "    6: \"Incident de contamination radioactive\",\n",
    "    7: \"circuit d’alimentation de secours des générateurs de vapeur\",\n",
    "    8: \"Défaut de maîtrise de la criticité\",\n",
    "    9: \"Défaut du groupe électrogène de secours\",\n",
    "    10: \"Défaut de maîtrise de la criticité\",\n",
    "    12: \"Défaut de tenue au séisme\",\n",
    "    13: \"Défaut du système de ventilation\",\n",
    "    14: \"Défaut du circuit d’injection de sécurité\",\n",
    "    16: \"Défaut du turbo-alternateur de secours\",\n",
    "    17: \"Non-respect d’une mesure compensatoire\",\n",
    "    18: \"Défaut du circuit de refroidissement\",\n",
    "    19: \"Défaut de tenue au séisme\",\n",
    "    20: \"Défaut du circuit d’eau brute\",\n",
    "    21: \"Défaut du groupe électrogène de secours\",\n",
    "    22: \"Défaut du circuit de refroidissement\",\n",
    "    23: \"Défaut de grappes de commande\",\n",
    "    24: \"Sortie du domaine de fonctionnement\",\n",
    "    26: \"Contamination par effluents radioactifs\",\n",
    "    28: \"Rejets de fluide frigorigène\",\n",
    "    30: \"Défaut de réalisation du contrôle périodique\",\n",
    "    31: \"Défaut de réalisation du contrôle périodique\",\n",
    "    32: \"Défaut d’alimentation électrique\",\n",
    "    34: \"Surplus de matière uranifère\",\n",
    "    36: \"Défaut de capteur\",\n",
    "    37: \"Incident lors du redémarrage du réacteur\",\n",
    "    38: \"Incident de contamination\",\n",
    "    39: \"Défaut d’entreposage de déchets radioactifs\",\n",
    "    41: \"Arret automatique du réacteur\",\n",
    "    45: \"Défaut de montée en puissance\",\n",
    "    46: \"Incident dans la piscine d’entreposage du combustible\",\n",
    "    51: \"Dépassement de délai de réparation\",\n",
    "    52: \"Non-respect des règles générales d'exploitation\",\n",
    "    54: \"Défaut des systèmes de protection du réacteur\",\n",
    "    57: \"Défaut du circuit secondaire\",\n",
    "    61: \"du circuit de contrôle volumétrique et chimique\",\n",
    "    63: \"Sortie du domaine de fonctionnement\",\n",
    "    71: \"Défaut de tenue au séisme\",\n",
    "    72: \"Non-respect des règles générales d'exploitation\",\n",
    "    77: \"Défaut d’intégrité de barrière de confinement\",\n",
    "    78: \"Défaut sur un générateur de vapeur\",\n",
    "    79: \"Non-respect des règles générales d'exploitation\",\n",
    "    80: \"Défaut de système de filtration d’iode\",\n",
    "    87: \"Défaut de clapets coupe-feu\",\n",
    "    88: \"Non-respect des règles générales d'exploitation\",\n",
    "}"
   ]
  },
  {
   "cell_type": "code",
   "execution_count": null,
   "metadata": {
    "scrolled": true
   },
   "outputs": [],
   "source": [
    "# NMF\n",
    "plot_topic_words(df_topic_feature_NMF, n_topics = 100, n_top_words = 15)"
   ]
  },
  {
   "cell_type": "code",
   "execution_count": null,
   "metadata": {},
   "outputs": [],
   "source": [
    "sub_topics = [i-1 for i in topic_NMF_dict.keys()]\n",
    "topic_NMF_interpreted = df_text_topic_NMF.iloc[:, sub_topics].idxmax(axis = 1)\n",
    "topic_NMF_interpreted = [topic_NMF_dict[int(topic.split()[-1])] for topic in topic_NMF_interpreted]"
   ]
  },
  {
   "cell_type": "code",
   "execution_count": null,
   "metadata": {},
   "outputs": [],
   "source": [
    "topic_NMF_interpreted[:10]"
   ]
  },
  {
   "cell_type": "code",
   "execution_count": null,
   "metadata": {},
   "outputs": [],
   "source": [
    "df_corpus['topic_NMF_interpreted'] = topic_NMF_interpreted"
   ]
  },
  {
   "cell_type": "code",
   "execution_count": null,
   "metadata": {},
   "outputs": [],
   "source": [
    "df_corpus['topic_NMF_interpreted'].value_counts().plot.barh(figsize = (10, 10)).invert_yaxis()\n",
    "plt.show()"
   ]
  },
  {
   "cell_type": "markdown",
   "metadata": {},
   "source": [
    "#### Export result"
   ]
  },
  {
   "cell_type": "code",
   "execution_count": null,
   "metadata": {
    "scrolled": true
   },
   "outputs": [],
   "source": [
    "df_corpus.head(2)"
   ]
  },
  {
   "cell_type": "code",
   "execution_count": null,
   "metadata": {},
   "outputs": [],
   "source": [
    "df_corpus.to_excel(os.path.join(path_to_data, 'source_titles_topics.xlsx'), index = False)"
   ]
  },
  {
   "cell_type": "markdown",
   "metadata": {},
   "source": [
    "<a id=\"bottom\"></a>"
   ]
  },
  {
   "cell_type": "markdown",
   "metadata": {},
   "source": [
    "[Table of content](#TOC)"
   ]
  }
 ],
 "metadata": {
  "kernelspec": {
   "display_name": "Python 3 (ipykernel)",
   "language": "python",
   "name": "python3"
  },
  "language_info": {
   "codemirror_mode": {
    "name": "ipython",
    "version": 3
   },
   "file_extension": ".py",
   "mimetype": "text/x-python",
   "name": "python",
   "nbconvert_exporter": "python",
   "pygments_lexer": "ipython3",
   "version": "3.11.5"
  }
 },
 "nbformat": 4,
 "nbformat_minor": 4
}
